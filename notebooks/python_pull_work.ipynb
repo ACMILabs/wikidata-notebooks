{
 "cells": [
  {
   "cell_type": "code",
   "execution_count": null,
   "metadata": {},
   "outputs": [],
   "source": [
    "# SPARQL query to pull data and media from Wikidata and Wikipedia via linked IDs.\n",
    "\n",
    "from IPython.display import Image, display\n",
    "import json\n",
    "import pandas\n",
    "import pathlib\n",
    "import pydash\n",
    "import requests\n",
    "\n",
    "def value_extract(row, column):\n",
    "\n",
    "    ''' Extract dictionary values. '''\n",
    "    \n",
    "    return pydash.get(row[column], 'value')\n",
    "\n",
    "def sparql_query(query, service):\n",
    "\n",
    "    ''' Send sparql request, and formulate results into a dataframe. '''\n",
    "\n",
    "    response = requests.get(service, params={'format': 'json', 'query': query}, timeout=120)\n",
    "    results = pydash.get(response.json(), 'results.bindings')\n",
    "    data_frame = pandas.DataFrame.from_dict(results)\n",
    "    for column in data_frame.columns:\n",
    "        data_frame[column] = data_frame.apply(value_extract, column=column, axis=1)\n",
    "    \n",
    "    return data_frame\n",
    "\n",
    "acmi_work_id = '80598' # ACMI ID for Picnic at Hanging Rock.\n",
    "\n",
    "query = '''\n",
    "    select ?acmi_work ?wikidata_work ?wikidata_workLabel ?countryLabel ?date ?dod ?podLabel ?article ?image ?imageLicense  \n",
    "    where {\n",
    "        values ?acmi_work {\"works/'''+acmi_work_id+'''\"}\n",
    "        ?wikidata_work wdt:P7003 ?acmi_work.\n",
    "        optional { ?wikidata_work wdt:P495 ?country } .\n",
    "        optional { ?wikidata_work wdt:P577 ?date } .\n",
    "        optional { ?wikidata_work wdt:P18 ?image .\n",
    "            bind(strafter(wikibase:decodeUri(str(?image)), \"http://commons.wikimedia.org/wiki/Special:FilePath/\") AS ?fileTitle)\n",
    "            service wikibase:mwapi {\n",
    "                bd:serviceParam wikibase:endpoint \"commons.wikimedia.org\";\n",
    "                wikibase:api \"Generator\";\n",
    "                wikibase:limit \"once\";\n",
    "                mwapi:generator \"allpages\";\n",
    "                mwapi:gapfrom ?fileTitle;\n",
    "                mwapi:gapnamespace 6; # NS_FILE\n",
    "                mwapi:gaplimit 1;\n",
    "                mwapi:prop \"imageinfo\";\n",
    "                mwapi:iiprop \"extmetadata\" .\n",
    "                ?imageLicense wikibase:apiOutput \"imageinfo/ii/extmetadata/License/@value\".\n",
    "            }\n",
    "        }\n",
    "        optional { ?article schema:about ?wikidata_work .\n",
    "            ?article schema:isPartOf <https://en.wikipedia.org/> } .\n",
    "        service wikibase:label { bd:serviceParam wikibase:language \"en\". }\n",
    "    } '''\n",
    "\n",
    "data = sparql_query(query, 'https://query.wikidata.org/sparql').to_dict('records')\n",
    "if len(data):\n",
    "    datum = data[0]\n",
    "    print(json.dumps(datum, indent=4))"
   ]
  },
  {
   "cell_type": "code",
   "execution_count": null,
   "metadata": {},
   "outputs": [],
   "source": [
    "# summary sourced from Wikidata. \n",
    "\n",
    "print(f\"{datum['wikidata_workLabel']} ({datum['countryLabel']}, {datum['date'][:4]})\")"
   ]
  },
  {
   "cell_type": "code",
   "execution_count": null,
   "metadata": {},
   "outputs": [],
   "source": [
    "# image sourced from Wikidata.\n",
    "\n",
    "display(Image(datum['image'], width=300, height=300))"
   ]
  },
  {
   "cell_type": "code",
   "execution_count": null,
   "metadata": {},
   "outputs": [],
   "source": [
    "# summary text sourced from Wikipedia.\n",
    "\n",
    "if datum['article']:\n",
    "    wikipedia_query = requests.get(f\"https://en.wikipedia.org/api/rest_v1/page/summary/{pathlib.Path(datum['article']).name}\")\n",
    "    wikipedia_query = json.loads(wikipedia_query.text)\n",
    "    print(wikipedia_query['extract'])"
   ]
  },
  {
   "cell_type": "code",
   "execution_count": null,
   "metadata": {},
   "outputs": [],
   "source": [
    "# image sourced from Wikipedia.\n",
    "\n",
    "if datum['article']:\n",
    "    wikipedia_query = requests.get(f\"https://en.wikipedia.org/api/rest_v1/page/summary/{pathlib.Path(datum['article']).name}\")\n",
    "    wikipedia_query = json.loads(wikipedia_query.text)\n",
    "    if pydash.get(wikipedia_query, 'thumbnail.source'):\n",
    "        display(Image(pydash.get(wikipedia_query, 'thumbnail.source'), width=300, height=300))"
   ]
  }
 ],
 "metadata": {
  "kernelspec": {
   "display_name": "Python 3",
   "language": "python",
   "name": "python3"
  },
  "language_info": {
   "codemirror_mode": {
    "name": "ipython",
    "version": 3
   },
   "file_extension": ".py",
   "mimetype": "text/x-python",
   "name": "python",
   "nbconvert_exporter": "python",
   "pygments_lexer": "ipython3",
   "version": "3.9.6"
  },
  "orig_nbformat": 4
 },
 "nbformat": 4,
 "nbformat_minor": 2
}
