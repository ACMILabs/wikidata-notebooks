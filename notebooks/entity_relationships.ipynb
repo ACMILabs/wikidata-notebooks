{
 "cells": [
  {
   "cell_type": "code",
   "execution_count": 1,
   "metadata": {},
   "outputs": [
    {
     "name": "stdout",
     "output_type": "stream",
     "text": [
      "24220\n"
     ]
    },
    {
     "data": {
      "text/html": [
       "<div>\n",
       "<style scoped>\n",
       "    .dataframe tbody tr th:only-of-type {\n",
       "        vertical-align: middle;\n",
       "    }\n",
       "\n",
       "    .dataframe tbody tr th {\n",
       "        vertical-align: top;\n",
       "    }\n",
       "\n",
       "    .dataframe thead th {\n",
       "        text-align: right;\n",
       "    }\n",
       "</style>\n",
       "<table border=\"1\" class=\"dataframe\">\n",
       "  <thead>\n",
       "    <tr style=\"text-align: right;\">\n",
       "      <th></th>\n",
       "      <th>acmi</th>\n",
       "    </tr>\n",
       "  </thead>\n",
       "  <tbody>\n",
       "    <tr>\n",
       "      <th>0</th>\n",
       "      <td>creators/80957</td>\n",
       "    </tr>\n",
       "    <tr>\n",
       "      <th>1</th>\n",
       "      <td>creators/78375</td>\n",
       "    </tr>\n",
       "    <tr>\n",
       "      <th>2</th>\n",
       "      <td>creators/54792</td>\n",
       "    </tr>\n",
       "    <tr>\n",
       "      <th>3</th>\n",
       "      <td>creators/62487</td>\n",
       "    </tr>\n",
       "    <tr>\n",
       "      <th>4</th>\n",
       "      <td>creators/32701</td>\n",
       "    </tr>\n",
       "  </tbody>\n",
       "</table>\n",
       "</div>"
      ],
      "text/plain": [
       "             acmi\n",
       "0  creators/80957\n",
       "1  creators/78375\n",
       "2  creators/54792\n",
       "3  creators/62487\n",
       "4  creators/32701"
      ]
     },
     "execution_count": 1,
     "metadata": {},
     "output_type": "execute_result"
    }
   ],
   "source": [
    "# pull and compare entity relationships, starting with director statements.\n",
    "\n",
    "import json\n",
    "import pandas\n",
    "import pathlib\n",
    "import pydash\n",
    "import requests\n",
    "import tqdm\n",
    "\n",
    "def value_extract(row, column):\n",
    "\n",
    "    ''' Extract dictionary values. '''\n",
    "    \n",
    "    return pydash.get(row[column], 'value')\n",
    "\n",
    "def sparql_query(query, service):\n",
    "\n",
    "    ''' Send sparql request, and formulate results into a dataframe. '''\n",
    "\n",
    "    response = requests.get(service, params={'format': 'json', 'query': query}, timeout=120)\n",
    "    results = pydash.get(response.json(), 'results.bindings')\n",
    "    df = pandas.DataFrame.from_dict(results)\n",
    "    for column in df.columns:\n",
    "        df[column] = df.apply(value_extract, column=column, axis=1)\n",
    "    \n",
    "    return df\n",
    "\n",
    "# first derive all extant acmi entities, wikidata side.\n",
    "# in the future with full sync, this filter would not be required.\n",
    "\n",
    "query = ''' \n",
    "    select ?acmi where { \n",
    "        ?wd wdt:P7003 ?acmi \n",
    "    } '''\n",
    "\n",
    "extant = sparql_query(query, 'https://query.wikidata.org/sparql').drop_duplicates()\n",
    "\n",
    "print(len(extant))\n",
    "extant.head()"
   ]
  },
  {
   "cell_type": "code",
   "execution_count": 2,
   "metadata": {},
   "outputs": [
    {
     "name": "stderr",
     "output_type": "stream",
     "text": [
      "100%|██████████| 43062/43062 [00:55<00:00, 772.47it/s] "
     ]
    },
    {
     "name": "stdout",
     "output_type": "stream",
     "text": [
      "5766\n"
     ]
    },
    {
     "name": "stderr",
     "output_type": "stream",
     "text": [
      "\n"
     ]
    },
    {
     "data": {
      "text/html": [
       "<div>\n",
       "<style scoped>\n",
       "    .dataframe tbody tr th:only-of-type {\n",
       "        vertical-align: middle;\n",
       "    }\n",
       "\n",
       "    .dataframe tbody tr th {\n",
       "        vertical-align: top;\n",
       "    }\n",
       "\n",
       "    .dataframe thead th {\n",
       "        text-align: right;\n",
       "    }\n",
       "</style>\n",
       "<table border=\"1\" class=\"dataframe\">\n",
       "  <thead>\n",
       "    <tr style=\"text-align: right;\">\n",
       "      <th></th>\n",
       "      <th>work</th>\n",
       "      <th>role</th>\n",
       "      <th>creator</th>\n",
       "      <th>acmi</th>\n",
       "    </tr>\n",
       "  </thead>\n",
       "  <tbody>\n",
       "    <tr>\n",
       "      <th>4</th>\n",
       "      <td>works/94858</td>\n",
       "      <td>director</td>\n",
       "      <td>creators/4863</td>\n",
       "      <td>True</td>\n",
       "    </tr>\n",
       "    <tr>\n",
       "      <th>14</th>\n",
       "      <td>works/116035</td>\n",
       "      <td>director</td>\n",
       "      <td>creators/82975</td>\n",
       "      <td>True</td>\n",
       "    </tr>\n",
       "    <tr>\n",
       "      <th>15</th>\n",
       "      <td>works/93364</td>\n",
       "      <td>director</td>\n",
       "      <td>creators/31457</td>\n",
       "      <td>True</td>\n",
       "    </tr>\n",
       "    <tr>\n",
       "      <th>18</th>\n",
       "      <td>works/88178</td>\n",
       "      <td>director</td>\n",
       "      <td>creators/66844</td>\n",
       "      <td>True</td>\n",
       "    </tr>\n",
       "    <tr>\n",
       "      <th>21</th>\n",
       "      <td>works/116465</td>\n",
       "      <td>director</td>\n",
       "      <td>creators/83321</td>\n",
       "      <td>True</td>\n",
       "    </tr>\n",
       "  </tbody>\n",
       "</table>\n",
       "</div>"
      ],
      "text/plain": [
       "            work      role         creator  acmi\n",
       "4    works/94858  director   creators/4863  True\n",
       "14  works/116035  director  creators/82975  True\n",
       "15   works/93364  director  creators/31457  True\n",
       "18   works/88178  director  creators/66844  True\n",
       "21  works/116465  director  creators/83321  True"
      ]
     },
     "execution_count": 2,
     "metadata": {},
     "output_type": "execute_result"
    }
   ],
   "source": [
    "# acmi-side statements.\n",
    "\n",
    "acmi_path = pathlib.Path.cwd().parents[0] / 'acmi-api' / 'app' / 'json' / 'works'\n",
    "acmi_api = [f for f in acmi_path.iterdir() if f.suffix == '.json' and 'index' not in f.name]\n",
    "acmi_roles = pandas.DataFrame(columns=['work', 'role', 'creator'])\n",
    "for acmi_file in tqdm.tqdm(acmi_api):\n",
    "    with open(acmi_file, encoding='utf-8') as acmi_data:\n",
    "        acmi_data = json.load(acmi_data)\n",
    "    if 'creators_primary' in acmi_data:\n",
    "        for y in acmi_data['creators_primary']:\n",
    "            if y['role'] == 'director':\n",
    "                acmi_roles.loc[len(acmi_roles)] = [\n",
    "                    (f\"works/{acmi_data['id']}\"), ('director'), (f\"creators/{y['creator_id']}\")]\n",
    "\n",
    "acmi_roles = acmi_roles.loc[acmi_roles.work.isin(list(extant.acmi.unique()))]\n",
    "acmi_roles = acmi_roles.loc[acmi_roles.creator.isin(list(extant.acmi.unique()))]\n",
    "\n",
    "acmi_roles['acmi'] = True\n",
    "print(len(acmi_roles))\n",
    "acmi_roles.head()"
   ]
  },
  {
   "cell_type": "code",
   "execution_count": 3,
   "metadata": {},
   "outputs": [
    {
     "name": "stdout",
     "output_type": "stream",
     "text": [
      "7130\n"
     ]
    },
    {
     "data": {
      "text/html": [
       "<div>\n",
       "<style scoped>\n",
       "    .dataframe tbody tr th:only-of-type {\n",
       "        vertical-align: middle;\n",
       "    }\n",
       "\n",
       "    .dataframe tbody tr th {\n",
       "        vertical-align: top;\n",
       "    }\n",
       "\n",
       "    .dataframe thead th {\n",
       "        text-align: right;\n",
       "    }\n",
       "</style>\n",
       "<table border=\"1\" class=\"dataframe\">\n",
       "  <thead>\n",
       "    <tr style=\"text-align: right;\">\n",
       "      <th></th>\n",
       "      <th>work</th>\n",
       "      <th>role</th>\n",
       "      <th>creator</th>\n",
       "      <th>wikidata</th>\n",
       "    </tr>\n",
       "  </thead>\n",
       "  <tbody>\n",
       "    <tr>\n",
       "      <th>0</th>\n",
       "      <td>works/88726</td>\n",
       "      <td>director</td>\n",
       "      <td>creators/10138</td>\n",
       "      <td>True</td>\n",
       "    </tr>\n",
       "    <tr>\n",
       "      <th>1</th>\n",
       "      <td>works/74464</td>\n",
       "      <td>director</td>\n",
       "      <td>creators/71814</td>\n",
       "      <td>True</td>\n",
       "    </tr>\n",
       "    <tr>\n",
       "      <th>2</th>\n",
       "      <td>works/115860</td>\n",
       "      <td>director</td>\n",
       "      <td>creators/25145</td>\n",
       "      <td>True</td>\n",
       "    </tr>\n",
       "    <tr>\n",
       "      <th>3</th>\n",
       "      <td>works/116173</td>\n",
       "      <td>director</td>\n",
       "      <td>creators/28528</td>\n",
       "      <td>True</td>\n",
       "    </tr>\n",
       "    <tr>\n",
       "      <th>4</th>\n",
       "      <td>works/90542</td>\n",
       "      <td>director</td>\n",
       "      <td>creators/23050</td>\n",
       "      <td>True</td>\n",
       "    </tr>\n",
       "  </tbody>\n",
       "</table>\n",
       "</div>"
      ],
      "text/plain": [
       "           work      role         creator  wikidata\n",
       "0   works/88726  director  creators/10138      True\n",
       "1   works/74464  director  creators/71814      True\n",
       "2  works/115860  director  creators/25145      True\n",
       "3  works/116173  director  creators/28528      True\n",
       "4   works/90542  director  creators/23050      True"
      ]
     },
     "execution_count": 3,
     "metadata": {},
     "output_type": "execute_result"
    }
   ],
   "source": [
    "# wikidata-side statements.\n",
    "\n",
    "query = ''' \n",
    "    select ?work_acmi ?director_acmi where {\n",
    "        ?work wdt:P57 ?director .\n",
    "        ?work wdt:P7003 ?work_acmi .\n",
    "        ?director wdt:P7003 ?director_acmi .\n",
    "        } '''\n",
    "\n",
    "wikidata_roles = sparql_query(query, 'https://query.wikidata.org/sparql').drop_duplicates()\n",
    "wikidata_roles['role'] = 'director'\n",
    "wikidata_roles = wikidata_roles[['work_acmi', 'role', 'director_acmi']].rename(\n",
    "    columns={'work_acmi':'work', 'director_acmi':'creator'})\n",
    "wikidata_roles['wikidata'] = True\n",
    "\n",
    "wikidata_roles = wikidata_roles.loc[wikidata_roles.work.isin(list(extant.acmi.unique()))]\n",
    "wikidata_roles = wikidata_roles.loc[wikidata_roles.creator.isin(list(extant.acmi.unique()))]\n",
    "\n",
    "print(len(wikidata_roles))\n",
    "wikidata_roles.head()"
   ]
  },
  {
   "cell_type": "code",
   "execution_count": 4,
   "metadata": {},
   "outputs": [
    {
     "name": "stdout",
     "output_type": "stream",
     "text": [
      "7508 total director statements.\n",
      "~\n",
      "5389 shared director statements.\n",
      "377 ACMI-only director statements.\n",
      "1742 Wikidata-only director statements.\n"
     ]
    }
   ],
   "source": [
    "# merge and report numbers.\n",
    "\n",
    "report = pandas.merge(acmi_roles, wikidata_roles, on=['work', 'role', 'creator'], how='outer')\n",
    "print(len(report), 'total director statements.')\n",
    "print('~')\n",
    "print(len(report.loc[report.acmi.isin([True]) & report.wikidata.isin([True])]), 'shared director statements.')\n",
    "print(len(report.loc[report.acmi.isin([True]) & ~report.wikidata.isin([True])]), 'ACMI-only director statements.')\n",
    "print(len(report.loc[~report.acmi.isin([True]) & report.wikidata.isin([True])]), 'Wikidata-only director statements.')"
   ]
  }
 ],
 "metadata": {
  "kernelspec": {
   "display_name": "Python 3",
   "language": "python",
   "name": "python3"
  },
  "language_info": {
   "codemirror_mode": {
    "name": "ipython",
    "version": 3
   },
   "file_extension": ".py",
   "mimetype": "text/x-python",
   "name": "python",
   "nbconvert_exporter": "python",
   "pygments_lexer": "ipython3",
   "version": "3.11.4"
  },
  "orig_nbformat": 4
 },
 "nbformat": 4,
 "nbformat_minor": 2
}
