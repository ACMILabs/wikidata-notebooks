{
 "cells": [
  {
   "cell_type": "code",
   "execution_count": 1,
   "metadata": {},
   "outputs": [
    {
     "name": "stdout",
     "output_type": "stream",
     "text": [
      "4935\n"
     ]
    },
    {
     "data": {
      "text/html": [
       "<div>\n",
       "<style scoped>\n",
       "    .dataframe tbody tr th:only-of-type {\n",
       "        vertical-align: middle;\n",
       "    }\n",
       "\n",
       "    .dataframe tbody tr th {\n",
       "        vertical-align: top;\n",
       "    }\n",
       "\n",
       "    .dataframe thead th {\n",
       "        text-align: right;\n",
       "    }\n",
       "</style>\n",
       "<table border=\"1\" class=\"dataframe\">\n",
       "  <thead>\n",
       "    <tr style=\"text-align: right;\">\n",
       "      <th></th>\n",
       "      <th>acmi_creator</th>\n",
       "      <th>wikidata_birthdate</th>\n",
       "    </tr>\n",
       "  </thead>\n",
       "  <tbody>\n",
       "    <tr>\n",
       "      <th>0</th>\n",
       "      <td>creators/66943</td>\n",
       "      <td>1928-07-26</td>\n",
       "    </tr>\n",
       "    <tr>\n",
       "      <th>1</th>\n",
       "      <td>creators/72561</td>\n",
       "      <td>1899-08-13</td>\n",
       "    </tr>\n",
       "    <tr>\n",
       "      <th>2</th>\n",
       "      <td>creators/66876</td>\n",
       "      <td>1915-05-06</td>\n",
       "    </tr>\n",
       "    <tr>\n",
       "      <th>3</th>\n",
       "      <td>creators/25121</td>\n",
       "      <td>1920-03-21</td>\n",
       "    </tr>\n",
       "    <tr>\n",
       "      <th>4</th>\n",
       "      <td>creators/3886</td>\n",
       "      <td>1934-07-01</td>\n",
       "    </tr>\n",
       "  </tbody>\n",
       "</table>\n",
       "</div>"
      ],
      "text/plain": [
       "     acmi_creator wikidata_birthdate\n",
       "0  creators/66943         1928-07-26\n",
       "1  creators/72561         1899-08-13\n",
       "2  creators/66876         1915-05-06\n",
       "3  creators/25121         1920-03-21\n",
       "4   creators/3886         1934-07-01"
      ]
     },
     "execution_count": 1,
     "metadata": {},
     "output_type": "execute_result"
    }
   ],
   "source": [
    "# validate data statements, starting with birth date.\n",
    "\n",
    "import json\n",
    "import pandas\n",
    "import pathlib\n",
    "import pydash\n",
    "import requests\n",
    "import tqdm\n",
    "\n",
    "def value_extract(row, column):\n",
    "\n",
    "    ''' Extract dictionary values. '''\n",
    "    \n",
    "    return pydash.get(row[column], 'value')\n",
    "\n",
    "def sparql_query(query, service):\n",
    "\n",
    "    ''' Send sparql request, and formulate results into a dataframe. '''\n",
    "\n",
    "    response = requests.get(service, params={'format': 'json', 'query': query}, timeout=120)\n",
    "    results = pydash.get(response.json(), 'results.bindings')\n",
    "    df = pandas.DataFrame.from_dict(results)\n",
    "    for column in df.columns:\n",
    "        df[column] = df.apply(value_extract, column=column, axis=1)\n",
    "    \n",
    "    return df\n",
    "\n",
    "# birthdates for synced creators from wikidata.\n",
    "\n",
    "query = ''' \n",
    "    select ?acmi_creator ?wikidata_birthdate where { \n",
    "        ?wd wdt:P7003 ?acmi_creator .\n",
    "        filter(regex(str(?acmi_creator), \"creator\"))\n",
    "        ?wd wdt:P569 ?wikidata_birthdate .\n",
    "    } '''\n",
    "\n",
    "wikidata_birth = sparql_query(query, 'https://query.wikidata.org/sparql').drop_duplicates()\n",
    "wikidata_birth['wikidata_birthdate'] = wikidata_birth['wikidata_birthdate'].str[:10]\n",
    "\n",
    "print(len(wikidata_birth))\n",
    "wikidata_birth.head()"
   ]
  },
  {
   "cell_type": "code",
   "execution_count": 2,
   "metadata": {},
   "outputs": [
    {
     "name": "stdout",
     "output_type": "stream",
     "text": [
      "1600\n"
     ]
    },
    {
     "data": {
      "text/html": [
       "<div>\n",
       "<style scoped>\n",
       "    .dataframe tbody tr th:only-of-type {\n",
       "        vertical-align: middle;\n",
       "    }\n",
       "\n",
       "    .dataframe tbody tr th {\n",
       "        vertical-align: top;\n",
       "    }\n",
       "\n",
       "    .dataframe thead th {\n",
       "        text-align: right;\n",
       "    }\n",
       "</style>\n",
       "<table border=\"1\" class=\"dataframe\">\n",
       "  <thead>\n",
       "    <tr style=\"text-align: right;\">\n",
       "      <th></th>\n",
       "      <th>acmi_creator</th>\n",
       "      <th>acmi_birthdate</th>\n",
       "    </tr>\n",
       "  </thead>\n",
       "  <tbody>\n",
       "    <tr>\n",
       "      <th>12</th>\n",
       "      <td>creators/76441</td>\n",
       "      <td>1944-03-06</td>\n",
       "    </tr>\n",
       "    <tr>\n",
       "      <th>22</th>\n",
       "      <td>creators/78485</td>\n",
       "      <td>1953-06-17</td>\n",
       "    </tr>\n",
       "    <tr>\n",
       "      <th>66</th>\n",
       "      <td>creators/79562</td>\n",
       "      <td>1965-12-30</td>\n",
       "    </tr>\n",
       "    <tr>\n",
       "      <th>84</th>\n",
       "      <td>creators/83073</td>\n",
       "      <td>1930-10-23</td>\n",
       "    </tr>\n",
       "    <tr>\n",
       "      <th>99</th>\n",
       "      <td>creators/26997</td>\n",
       "      <td>1941-01-01</td>\n",
       "    </tr>\n",
       "  </tbody>\n",
       "</table>\n",
       "</div>"
      ],
      "text/plain": [
       "      acmi_creator acmi_birthdate\n",
       "12  creators/76441     1944-03-06\n",
       "22  creators/78485     1953-06-17\n",
       "66  creators/79562     1965-12-30\n",
       "84  creators/83073     1930-10-23\n",
       "99  creators/26997     1941-01-01"
      ]
     },
     "execution_count": 2,
     "metadata": {},
     "output_type": "execute_result"
    }
   ],
   "source": [
    "acmi_birth = pandas.read_csv(pathlib.Path.cwd().parents[0] / 'acmi-api' / 'app' / 'tsv' / 'creators.tsv', delimiter='\\t')\n",
    "acmi_birth['id'] = 'creators/'+acmi_birth['id'].astype(str)\n",
    "acmi_birth = acmi_birth[['id', 'date_of_birth']].rename(columns={'id':'acmi_creator', 'date_of_birth':'acmi_birthdate'})\n",
    "acmi_birth = acmi_birth.dropna()\n",
    "acmi_birth = acmi_birth[acmi_birth.acmi_birthdate.apply(lambda x: len(str(x))==10)]\n",
    "\n",
    "print(len(acmi_birth))\n",
    "acmi_birth.head()"
   ]
  },
  {
   "cell_type": "code",
   "execution_count": 3,
   "metadata": {},
   "outputs": [
    {
     "name": "stdout",
     "output_type": "stream",
     "text": [
      "107\n"
     ]
    },
    {
     "data": {
      "text/html": [
       "<div>\n",
       "<style scoped>\n",
       "    .dataframe tbody tr th:only-of-type {\n",
       "        vertical-align: middle;\n",
       "    }\n",
       "\n",
       "    .dataframe tbody tr th {\n",
       "        vertical-align: top;\n",
       "    }\n",
       "\n",
       "    .dataframe thead th {\n",
       "        text-align: right;\n",
       "    }\n",
       "</style>\n",
       "<table border=\"1\" class=\"dataframe\">\n",
       "  <thead>\n",
       "    <tr style=\"text-align: right;\">\n",
       "      <th></th>\n",
       "      <th>acmi_creator</th>\n",
       "      <th>acmi_birthdate</th>\n",
       "      <th>wikidata_birthdate</th>\n",
       "    </tr>\n",
       "  </thead>\n",
       "  <tbody>\n",
       "    <tr>\n",
       "      <th>2</th>\n",
       "      <td>creators/79562</td>\n",
       "      <td>1965-12-30</td>\n",
       "      <td>1963-03-14</td>\n",
       "    </tr>\n",
       "    <tr>\n",
       "      <th>16</th>\n",
       "      <td>creators/24342</td>\n",
       "      <td>1897-04-23</td>\n",
       "      <td>1900-01-01</td>\n",
       "    </tr>\n",
       "    <tr>\n",
       "      <th>17</th>\n",
       "      <td>creators/24342</td>\n",
       "      <td>1897-04-23</td>\n",
       "      <td>1900-04-23</td>\n",
       "    </tr>\n",
       "    <tr>\n",
       "      <th>19</th>\n",
       "      <td>creators/83123</td>\n",
       "      <td>1953-09-01</td>\n",
       "      <td>1959-09-01</td>\n",
       "    </tr>\n",
       "    <tr>\n",
       "      <th>24</th>\n",
       "      <td>creators/76458</td>\n",
       "      <td>1932-08-11</td>\n",
       "      <td>1932-01-01</td>\n",
       "    </tr>\n",
       "  </tbody>\n",
       "</table>\n",
       "</div>"
      ],
      "text/plain": [
       "      acmi_creator acmi_birthdate wikidata_birthdate\n",
       "2   creators/79562     1965-12-30         1963-03-14\n",
       "16  creators/24342     1897-04-23         1900-01-01\n",
       "17  creators/24342     1897-04-23         1900-04-23\n",
       "19  creators/83123     1953-09-01         1959-09-01\n",
       "24  creators/76458     1932-08-11         1932-01-01"
      ]
     },
     "execution_count": 3,
     "metadata": {},
     "output_type": "execute_result"
    }
   ],
   "source": [
    "compare = pandas.merge(acmi_birth, wikidata_birth, on='acmi_creator', how='inner')\n",
    "compare = compare.loc[compare.acmi_birthdate != compare.wikidata_birthdate]\n",
    "print(len(compare))\n",
    "compare.head()"
   ]
  }
 ],
 "metadata": {
  "kernelspec": {
   "display_name": "Python 3",
   "language": "python",
   "name": "python3"
  },
  "language_info": {
   "codemirror_mode": {
    "name": "ipython",
    "version": 3
   },
   "file_extension": ".py",
   "mimetype": "text/x-python",
   "name": "python",
   "nbconvert_exporter": "python",
   "pygments_lexer": "ipython3",
   "version": "3.11.4"
  },
  "orig_nbformat": 4
 },
 "nbformat": 4,
 "nbformat_minor": 2
}
