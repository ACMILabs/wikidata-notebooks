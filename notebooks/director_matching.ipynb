{
 "cells": [
  {
   "cell_type": "code",
   "execution_count": 5,
   "metadata": {},
   "outputs": [
    {
     "name": "stdout",
     "output_type": "stream",
     "text": [
      "['creator_credit' 'credit_line']\n",
      "554\n"
     ]
    },
    {
     "data": {
      "text/html": [
       "<div>\n",
       "<style scoped>\n",
       "    .dataframe tbody tr th:only-of-type {\n",
       "        vertical-align: middle;\n",
       "    }\n",
       "\n",
       "    .dataframe tbody tr th {\n",
       "        vertical-align: top;\n",
       "    }\n",
       "\n",
       "    .dataframe thead th {\n",
       "        text-align: right;\n",
       "    }\n",
       "</style>\n",
       "<table border=\"1\" class=\"dataframe\">\n",
       "  <thead>\n",
       "    <tr style=\"text-align: right;\">\n",
       "      <th></th>\n",
       "      <th>creator_credit</th>\n",
       "      <th>credit_line</th>\n",
       "    </tr>\n",
       "  </thead>\n",
       "  <tbody>\n",
       "    <tr>\n",
       "      <th>44</th>\n",
       "      <td>Mitchell Camera Corporation</td>\n",
       "      <td>&lt;p&gt;ACMI Collection&lt;/p&gt;</td>\n",
       "    </tr>\n",
       "    <tr>\n",
       "      <th>178</th>\n",
       "      <td>Maker not documented</td>\n",
       "      <td>&lt;p&gt;Issue 7, January 1996&lt;/p&gt;</td>\n",
       "    </tr>\n",
       "    <tr>\n",
       "      <th>183</th>\n",
       "      <td>Pathé Frères</td>\n",
       "      <td>&lt;p&gt;ACMI Collection. Donated by Martin Hudson&lt;/p&gt;</td>\n",
       "    </tr>\n",
       "    <tr>\n",
       "      <th>211</th>\n",
       "      <td>National Panasonic and Matsushita Electrical C...</td>\n",
       "      <td>&lt;p&gt;ACMI Collection. Courtesy Andrew Evans.&lt;/p&gt;</td>\n",
       "    </tr>\n",
       "    <tr>\n",
       "      <th>212</th>\n",
       "      <td>Apple Computer Inc.</td>\n",
       "      <td>&lt;p&gt;ACMI Collection&lt;/p&gt;</td>\n",
       "    </tr>\n",
       "  </tbody>\n",
       "</table>\n",
       "</div>"
      ],
      "text/plain": [
       "                                        creator_credit   \n",
       "44                         Mitchell Camera Corporation  \\\n",
       "178                               Maker not documented   \n",
       "183                                       Pathé Frères   \n",
       "211  National Panasonic and Matsushita Electrical C...   \n",
       "212                                Apple Computer Inc.   \n",
       "\n",
       "                                          credit_line  \n",
       "44                             <p>ACMI Collection</p>  \n",
       "178                      <p>Issue 7, January 1996</p>  \n",
       "183  <p>ACMI Collection. Donated by Martin Hudson</p>  \n",
       "211    <p>ACMI Collection. Courtesy Andrew Evans.</p>  \n",
       "212                            <p>ACMI Collection</p>  "
      ]
     },
     "execution_count": 5,
     "metadata": {},
     "output_type": "execute_result"
    }
   ],
   "source": [
    "# focus on identfying director matches.\n",
    "\n",
    "import pandas\n",
    "import pathlib\n",
    "\n",
    "acmi_creators = pandas.read_csv(pathlib.Path.cwd().parents[0] / 'acmi-api' / 'app' / 'tsv' / 'works.tsv', delimiter='\\t', low_memory=False)\n",
    "\n",
    "\n",
    "# acmi_creators = acmi_creators.dropna(subset='date_of_death')\n",
    "# acmi_creators = acmi_creators.loc{}\n",
    "# acmi_creators = acmi_creators.astype(str)\n",
    "# acmi_creators = acmi_creators[['id', 'name']].rename(columns={'id':'creator_id'})\n",
    "\n",
    "\n",
    "acmi_creators = acmi_creators[['creator_credit', 'credit_line']].dropna()\n",
    "print(acmi_creators.columns.values)\n",
    "\n",
    "print(len(acmi_creators))\n",
    "acmi_creators.head()"
   ]
  },
  {
   "cell_type": "code",
   "execution_count": 11,
   "metadata": {},
   "outputs": [
    {
     "name": "stderr",
     "output_type": "stream",
     "text": [
      "100%|██████████| 42920/42920 [01:05<00:00, 651.41it/s] \n"
     ]
    },
    {
     "name": "stdout",
     "output_type": "stream",
     "text": [
      "7548\n"
     ]
    }
   ],
   "source": [
    "\n",
    "import json\n",
    "import numpy\n",
    "import pandas\n",
    "import pathlib\n",
    "import pydash\n",
    "import requests\n",
    "import tqdm\n",
    "\n",
    "acmi_path = pathlib.Path.cwd().parents[0] / 'acmi-api' / 'app' / 'json' / 'works'\n",
    "acmi_files = [filename for filename in acmi_path.iterdir() if filename.suffix == '.json' and 'index' not in filename.name]\n",
    "\n",
    "directors = list()\n",
    "\n",
    "for acmi_file in tqdm.tqdm(acmi_files):\n",
    "\n",
    "    with open(acmi_file, encoding='utf-8') as acmi_data:\n",
    "        acmi_data = json.load(acmi_data)\n",
    "\n",
    "    if 'creators_primary' in acmi_data:\n",
    "        for y in acmi_data['creators_primary']:\n",
    "            if 'role' in y:\n",
    "                if y['role'] == 'director':\n",
    "                    directors.append(y['creator_id'])\n",
    "\n",
    "print(len(pydash.uniq(directors)))"
   ]
  }
 ],
 "metadata": {
  "kernelspec": {
   "display_name": "Python 3",
   "language": "python",
   "name": "python3"
  },
  "language_info": {
   "codemirror_mode": {
    "name": "ipython",
    "version": 3
   },
   "file_extension": ".py",
   "mimetype": "text/x-python",
   "name": "python",
   "nbconvert_exporter": "python",
   "pygments_lexer": "ipython3",
   "version": "3.9.6"
  },
  "orig_nbformat": 4
 },
 "nbformat": 4,
 "nbformat_minor": 2
}
