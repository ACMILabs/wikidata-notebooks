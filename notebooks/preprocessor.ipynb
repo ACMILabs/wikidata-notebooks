{
 "cells": [
  {
   "cell_type": "code",
   "execution_count": 1,
   "metadata": {
    "execution": {
     "iopub.execute_input": "2023-07-03T11:49:46.022132Z",
     "iopub.status.busy": "2023-07-03T11:49:46.021693Z",
     "iopub.status.idle": "2023-07-03T11:58:31.509228Z",
     "shell.execute_reply": "2023-07-03T11:58:31.507918Z"
    }
   },
   "outputs": [
    {
     "name": "stderr",
     "output_type": "stream",
     "text": [
      "100%|██████████| 42901/42901 [10:12<00:00, 70.01it/s] \n"
     ]
    }
   ],
   "source": [
    "# # preprocess data sources.\n",
    "\n",
    "# parse acmi api to pull dataframe.\n",
    "\n",
    "import json\n",
    "import numpy\n",
    "import pandas\n",
    "import pathlib\n",
    "import pydash\n",
    "import requests\n",
    "import tqdm\n",
    "\n",
    "acmi_path = pathlib.Path.cwd().parents[0] / 'acmi-api' / 'app' / 'json' / 'works'\n",
    "acmi_files = [filename for filename in acmi_path.iterdir() if filename.suffix == '.json' and 'index' not in filename.name]\n",
    "\n",
    "acmi_dataframe = pandas.DataFrame(columns=[\n",
    "    'acmi_work_id', 'acmi_work_title', 'acmi_work_wikidata', \n",
    "    'acmi_creator_id', 'acmi_creator_name', 'acmi_creator_wikidata'])\n",
    "    \n",
    "for acmi_file in tqdm.tqdm(acmi_files):\n",
    "\n",
    "    with open(acmi_file, encoding='utf-8') as acmi_data:\n",
    "        acmi_data = json.load(acmi_data)\n",
    "\n",
    "    if 'id' in acmi_data: \n",
    "        acmi_work_id = acmi_data['id']\n",
    "\n",
    "        acmi_work_title = ''\n",
    "        if 'title' in acmi_data:\n",
    "            acmi_work_title = acmi_data['title']\n",
    "\n",
    "        acmi_work_wikidata = ''\n",
    "        if 'external_references' in acmi_data:\n",
    "            for external_reference in acmi_data['external_references']:\n",
    "                if pydash.get(external_reference, 'source.name') == 'Wikidata':\n",
    "                    acmi_work_wikidata = external_reference['source_identifier']\n",
    "\n",
    "        if 'creators_primary' in acmi_data:\n",
    "            for y in acmi_data['creators_primary']:\n",
    "                acmi_creator_id = y['creator_id']\n",
    "\n",
    "                acmi_creator_name = ''\n",
    "                if 'name' in y:\n",
    "                    acmi_creator_name = y['name']\n",
    "\n",
    "                acmi_creator_wikidata = ''\n",
    "                if 'creator_wikidata_id' in y:\n",
    "                    if y['creator_wikidata_id']:\n",
    "                        acmi_creator_wikidata = y['creator_wikidata_id']\n",
    "\n",
    "                acmi_dataframe.loc[len(acmi_dataframe)] = [\n",
    "                    (acmi_work_id), (acmi_work_title), (acmi_work_wikidata), \n",
    "                    (acmi_creator_id), (acmi_creator_name), (acmi_creator_wikidata)]\n",
    "        \n",
    "acmi_data_path = pathlib.Path.cwd().parents[0] / 'data' / 'acmi_data.parquet'\n",
    "acmi_data_path.parents[0].mkdir(exist_ok=True)\n",
    "acmi_dataframe.to_parquet(acmi_data_path, index=False)"
   ]
  },
  {
   "cell_type": "code",
   "execution_count": 2,
   "metadata": {
    "execution": {
     "iopub.execute_input": "2023-07-03T11:58:31.513607Z",
     "iopub.status.busy": "2023-07-03T11:58:31.513280Z",
     "iopub.status.idle": "2023-07-03T11:58:32.443971Z",
     "shell.execute_reply": "2023-07-03T11:58:32.443219Z"
    }
   },
   "outputs": [
    {
     "name": "stdout",
     "output_type": "stream",
     "text": [
      "9957\n"
     ]
    },
    {
     "data": {
      "text/html": [
       "<div>\n",
       "<style scoped>\n",
       "    .dataframe tbody tr th:only-of-type {\n",
       "        vertical-align: middle;\n",
       "    }\n",
       "\n",
       "    .dataframe tbody tr th {\n",
       "        vertical-align: top;\n",
       "    }\n",
       "\n",
       "    .dataframe thead th {\n",
       "        text-align: right;\n",
       "    }\n",
       "</style>\n",
       "<table border=\"1\" class=\"dataframe\">\n",
       "  <thead>\n",
       "    <tr style=\"text-align: right;\">\n",
       "      <th></th>\n",
       "      <th>wikidata_id</th>\n",
       "      <th>wikidata_acmi_id</th>\n",
       "    </tr>\n",
       "  </thead>\n",
       "  <tbody>\n",
       "    <tr>\n",
       "      <th>0</th>\n",
       "      <td>Q3822468</td>\n",
       "      <td>works/85037</td>\n",
       "    </tr>\n",
       "    <tr>\n",
       "      <th>1</th>\n",
       "      <td>Q703727</td>\n",
       "      <td>creators/72597</td>\n",
       "    </tr>\n",
       "    <tr>\n",
       "      <th>2</th>\n",
       "      <td>Q172837</td>\n",
       "      <td>works/115714</td>\n",
       "    </tr>\n",
       "    <tr>\n",
       "      <th>3</th>\n",
       "      <td>Q6940276</td>\n",
       "      <td>works/70682</td>\n",
       "    </tr>\n",
       "    <tr>\n",
       "      <th>4</th>\n",
       "      <td>Q189694</td>\n",
       "      <td>creators/59635</td>\n",
       "    </tr>\n",
       "  </tbody>\n",
       "</table>\n",
       "</div>"
      ],
      "text/plain": [
       "  wikidata_id wikidata_acmi_id\n",
       "0    Q3822468      works/85037\n",
       "1     Q703727   creators/72597\n",
       "2     Q172837     works/115714\n",
       "3    Q6940276      works/70682\n",
       "4     Q189694   creators/59635"
      ]
     },
     "execution_count": 2,
     "metadata": {},
     "output_type": "execute_result"
    }
   ],
   "source": [
    "# pull wikidata -> acmi links from wikidata.\n",
    "\n",
    "def value_extract(row, column):\n",
    "\n",
    "    ''' Extract dictionary values. '''\n",
    "    \n",
    "    return pydash.get(row[column], 'value')\n",
    "\n",
    "def sparql_query(query, service):\n",
    "\n",
    "    ''' Send sparql request, and formulate results into a dataframe. '''\n",
    "\n",
    "    response = requests.get(service, params={'format': 'json', 'query': query}, timeout=120)\n",
    "    results = pydash.get(response.json(), 'results.bindings')\n",
    "    data_frame = pandas.DataFrame.from_dict(results)\n",
    "    for column in data_frame.columns:\n",
    "        data_frame[column] = data_frame.apply(value_extract, column=column, axis=1)\n",
    "    \n",
    "    return data_frame\n",
    "\n",
    "query = ''' select ?wikidata_id ?wikidata_acmi_id where { ?wikidata_id wdt:P7003 ?wikidata_acmi_id } '''\n",
    "wikidata_links = sparql_query(query, 'https://query.wikidata.org/sparql')\n",
    "wikidata_links['wikidata_id'] = wikidata_links['wikidata_id'].str.split('/').str[-1]\n",
    "wikidata_link_path = pathlib.Path.cwd().parents[0] / 'data' / 'wikidata_link_data.parquet'\n",
    "wikidata_links.to_parquet(wikidata_link_path, index=False)\n",
    "\n",
    "print(len(wikidata_links))\n",
    "wikidata_links.head()"
   ]
  },
  {
   "cell_type": "code",
   "execution_count": 3,
   "metadata": {
    "execution": {
     "iopub.execute_input": "2023-07-03T11:58:32.447187Z",
     "iopub.status.busy": "2023-07-03T11:58:32.446976Z",
     "iopub.status.idle": "2023-07-03T11:59:33.742811Z",
     "shell.execute_reply": "2023-07-03T11:59:33.742103Z"
    }
   },
   "outputs": [
    {
     "ename": "JSONDecodeError",
     "evalue": "Expecting value: line 1 column 1 (char 0)",
     "output_type": "error",
     "traceback": [
      "\u001b[0;31m---------------------------------------------------------------------------\u001b[0m",
      "\u001b[0;31mJSONDecodeError\u001b[0m                           Traceback (most recent call last)",
      "File \u001b[0;32m~/Library/Python/3.9/lib/python/site-packages/requests/models.py:971\u001b[0m, in \u001b[0;36mResponse.json\u001b[0;34m(self, **kwargs)\u001b[0m\n\u001b[1;32m    970\u001b[0m \u001b[39mtry\u001b[39;00m:\n\u001b[0;32m--> 971\u001b[0m     \u001b[39mreturn\u001b[39;00m complexjson\u001b[39m.\u001b[39;49mloads(\u001b[39mself\u001b[39;49m\u001b[39m.\u001b[39;49mtext, \u001b[39m*\u001b[39;49m\u001b[39m*\u001b[39;49mkwargs)\n\u001b[1;32m    972\u001b[0m \u001b[39mexcept\u001b[39;00m JSONDecodeError \u001b[39mas\u001b[39;00m e:\n\u001b[1;32m    973\u001b[0m     \u001b[39m# Catch JSON-related errors and raise as requests.JSONDecodeError\u001b[39;00m\n\u001b[1;32m    974\u001b[0m     \u001b[39m# This aliases json.JSONDecodeError and simplejson.JSONDecodeError\u001b[39;00m\n",
      "File \u001b[0;32m/Library/Developer/CommandLineTools/Library/Frameworks/Python3.framework/Versions/3.9/lib/python3.9/json/__init__.py:346\u001b[0m, in \u001b[0;36mloads\u001b[0;34m(s, cls, object_hook, parse_float, parse_int, parse_constant, object_pairs_hook, **kw)\u001b[0m\n\u001b[1;32m    343\u001b[0m \u001b[39mif\u001b[39;00m (\u001b[39mcls\u001b[39m \u001b[39mis\u001b[39;00m \u001b[39mNone\u001b[39;00m \u001b[39mand\u001b[39;00m object_hook \u001b[39mis\u001b[39;00m \u001b[39mNone\u001b[39;00m \u001b[39mand\u001b[39;00m\n\u001b[1;32m    344\u001b[0m         parse_int \u001b[39mis\u001b[39;00m \u001b[39mNone\u001b[39;00m \u001b[39mand\u001b[39;00m parse_float \u001b[39mis\u001b[39;00m \u001b[39mNone\u001b[39;00m \u001b[39mand\u001b[39;00m\n\u001b[1;32m    345\u001b[0m         parse_constant \u001b[39mis\u001b[39;00m \u001b[39mNone\u001b[39;00m \u001b[39mand\u001b[39;00m object_pairs_hook \u001b[39mis\u001b[39;00m \u001b[39mNone\u001b[39;00m \u001b[39mand\u001b[39;00m \u001b[39mnot\u001b[39;00m kw):\n\u001b[0;32m--> 346\u001b[0m     \u001b[39mreturn\u001b[39;00m _default_decoder\u001b[39m.\u001b[39;49mdecode(s)\n\u001b[1;32m    347\u001b[0m \u001b[39mif\u001b[39;00m \u001b[39mcls\u001b[39m \u001b[39mis\u001b[39;00m \u001b[39mNone\u001b[39;00m:\n",
      "File \u001b[0;32m/Library/Developer/CommandLineTools/Library/Frameworks/Python3.framework/Versions/3.9/lib/python3.9/json/decoder.py:337\u001b[0m, in \u001b[0;36mJSONDecoder.decode\u001b[0;34m(self, s, _w)\u001b[0m\n\u001b[1;32m    333\u001b[0m \u001b[39m\u001b[39m\u001b[39m\"\"\"Return the Python representation of ``s`` (a ``str`` instance\u001b[39;00m\n\u001b[1;32m    334\u001b[0m \u001b[39mcontaining a JSON document).\u001b[39;00m\n\u001b[1;32m    335\u001b[0m \n\u001b[1;32m    336\u001b[0m \u001b[39m\"\"\"\u001b[39;00m\n\u001b[0;32m--> 337\u001b[0m obj, end \u001b[39m=\u001b[39m \u001b[39mself\u001b[39;49m\u001b[39m.\u001b[39;49mraw_decode(s, idx\u001b[39m=\u001b[39;49m_w(s, \u001b[39m0\u001b[39;49m)\u001b[39m.\u001b[39;49mend())\n\u001b[1;32m    338\u001b[0m end \u001b[39m=\u001b[39m _w(s, end)\u001b[39m.\u001b[39mend()\n",
      "File \u001b[0;32m/Library/Developer/CommandLineTools/Library/Frameworks/Python3.framework/Versions/3.9/lib/python3.9/json/decoder.py:355\u001b[0m, in \u001b[0;36mJSONDecoder.raw_decode\u001b[0;34m(self, s, idx)\u001b[0m\n\u001b[1;32m    354\u001b[0m \u001b[39mexcept\u001b[39;00m \u001b[39mStopIteration\u001b[39;00m \u001b[39mas\u001b[39;00m err:\n\u001b[0;32m--> 355\u001b[0m     \u001b[39mraise\u001b[39;00m JSONDecodeError(\u001b[39m\"\u001b[39m\u001b[39mExpecting value\u001b[39m\u001b[39m\"\u001b[39m, s, err\u001b[39m.\u001b[39mvalue) \u001b[39mfrom\u001b[39;00m \u001b[39mNone\u001b[39;00m\n\u001b[1;32m    356\u001b[0m \u001b[39mreturn\u001b[39;00m obj, end\n",
      "\u001b[0;31mJSONDecodeError\u001b[0m: Expecting value: line 1 column 1 (char 0)",
      "\nDuring handling of the above exception, another exception occurred:\n",
      "\u001b[0;31mJSONDecodeError\u001b[0m                           Traceback (most recent call last)",
      "Cell \u001b[0;32mIn[3], line 17\u001b[0m\n\u001b[1;32m      9\u001b[0m     chunk_array \u001b[39m=\u001b[39m \u001b[39m'\u001b[39m\u001b[39mwd:\u001b[39m\u001b[39m'\u001b[39m\u001b[39m+\u001b[39m\u001b[39m'\u001b[39m\u001b[39m wd:\u001b[39m\u001b[39m'\u001b[39m\u001b[39m.\u001b[39mjoin([x \u001b[39mfor\u001b[39;00m x \u001b[39min\u001b[39;00m chunk])\n\u001b[1;32m     10\u001b[0m     query \u001b[39m=\u001b[39m \u001b[39m\"\"\"\u001b[39m\n\u001b[1;32m     11\u001b[0m \u001b[39m        select distinct ?work ?workLabel ?creator ?creatorLabel where \u001b[39m\u001b[39m{\u001b[39m\n\u001b[1;32m     12\u001b[0m \u001b[39m            values ?work \u001b[39m\u001b[39m{\u001b[39m\u001b[39m\"\"\"\u001b[39m\u001b[39m+\u001b[39mchunk_array\u001b[39m+\u001b[39m\u001b[39m\"\"\"\u001b[39m\u001b[39m}\u001b[39m\n\u001b[0;32m   (...)\u001b[0m\n\u001b[1;32m     15\u001b[0m \u001b[39m            service wikibase:label \u001b[39m\u001b[39m{\u001b[39m\u001b[39m bd:serviceParam wikibase:language \u001b[39m\u001b[39m\"\u001b[39m\u001b[39m[AUTO_LANGUAGE],en\u001b[39m\u001b[39m\"\u001b[39m\u001b[39m. }\u001b[39m\n\u001b[1;32m     16\u001b[0m \u001b[39m            } \u001b[39m\u001b[39m\"\"\"\u001b[39m\n\u001b[0;32m---> 17\u001b[0m     wikidata_data \u001b[39m=\u001b[39m pandas\u001b[39m.\u001b[39mconcat([wikidata_data, sparql_query(query, \u001b[39m\"\u001b[39;49m\u001b[39mhttps://query.wikidata.org/sparql\u001b[39;49m\u001b[39m\"\u001b[39;49m)])\n\u001b[1;32m     19\u001b[0m \u001b[39mfor\u001b[39;00m x \u001b[39min\u001b[39;00m [\u001b[39m'\u001b[39m\u001b[39mwork\u001b[39m\u001b[39m'\u001b[39m, \u001b[39m'\u001b[39m\u001b[39mcreator\u001b[39m\u001b[39m'\u001b[39m]:\n\u001b[1;32m     20\u001b[0m     wikidata_data[x] \u001b[39m=\u001b[39m wikidata_data[x]\u001b[39m.\u001b[39mstr\u001b[39m.\u001b[39msplit(\u001b[39m'\u001b[39m\u001b[39m/\u001b[39m\u001b[39m'\u001b[39m)\u001b[39m.\u001b[39mstr[\u001b[39m-\u001b[39m\u001b[39m1\u001b[39m]\n",
      "Cell \u001b[0;32mIn[2], line 14\u001b[0m, in \u001b[0;36msparql_query\u001b[0;34m(query, service)\u001b[0m\n\u001b[1;32m     11\u001b[0m \u001b[39m\u001b[39m\u001b[39m''' Send sparql request, and formulate results into a dataframe. '''\u001b[39;00m\n\u001b[1;32m     13\u001b[0m response \u001b[39m=\u001b[39m requests\u001b[39m.\u001b[39mget(service, params\u001b[39m=\u001b[39m{\u001b[39m'\u001b[39m\u001b[39mformat\u001b[39m\u001b[39m'\u001b[39m: \u001b[39m'\u001b[39m\u001b[39mjson\u001b[39m\u001b[39m'\u001b[39m, \u001b[39m'\u001b[39m\u001b[39mquery\u001b[39m\u001b[39m'\u001b[39m: query}, timeout\u001b[39m=\u001b[39m\u001b[39m120\u001b[39m)\n\u001b[0;32m---> 14\u001b[0m results \u001b[39m=\u001b[39m pydash\u001b[39m.\u001b[39mget(response\u001b[39m.\u001b[39;49mjson(), \u001b[39m'\u001b[39m\u001b[39mresults.bindings\u001b[39m\u001b[39m'\u001b[39m)\n\u001b[1;32m     15\u001b[0m data_frame \u001b[39m=\u001b[39m pandas\u001b[39m.\u001b[39mDataFrame\u001b[39m.\u001b[39mfrom_dict(results)\n\u001b[1;32m     16\u001b[0m \u001b[39mfor\u001b[39;00m column \u001b[39min\u001b[39;00m data_frame\u001b[39m.\u001b[39mcolumns:\n",
      "File \u001b[0;32m~/Library/Python/3.9/lib/python/site-packages/requests/models.py:975\u001b[0m, in \u001b[0;36mResponse.json\u001b[0;34m(self, **kwargs)\u001b[0m\n\u001b[1;32m    971\u001b[0m     \u001b[39mreturn\u001b[39;00m complexjson\u001b[39m.\u001b[39mloads(\u001b[39mself\u001b[39m\u001b[39m.\u001b[39mtext, \u001b[39m*\u001b[39m\u001b[39m*\u001b[39mkwargs)\n\u001b[1;32m    972\u001b[0m \u001b[39mexcept\u001b[39;00m JSONDecodeError \u001b[39mas\u001b[39;00m e:\n\u001b[1;32m    973\u001b[0m     \u001b[39m# Catch JSON-related errors and raise as requests.JSONDecodeError\u001b[39;00m\n\u001b[1;32m    974\u001b[0m     \u001b[39m# This aliases json.JSONDecodeError and simplejson.JSONDecodeError\u001b[39;00m\n\u001b[0;32m--> 975\u001b[0m     \u001b[39mraise\u001b[39;00m RequestsJSONDecodeError(e\u001b[39m.\u001b[39mmsg, e\u001b[39m.\u001b[39mdoc, e\u001b[39m.\u001b[39mpos)\n",
      "\u001b[0;31mJSONDecodeError\u001b[0m: Expecting value: line 1 column 1 (char 0)"
     ]
    }
   ],
   "source": [
    "# pull wikidata creator data from linked works.\n",
    "\n",
    "link_path = pathlib.Path.cwd().parents[0] / 'data' / 'wikidata_link_data.parquet'\n",
    "link_data = pandas.read_parquet(link_path)\n",
    "link_data = link_data.loc[link_data.wikidata_acmi_id.str.contains('works', na=False)]\n",
    "\n",
    "wikidata_data = pandas.DataFrame()\n",
    "for chunk in numpy.array_split(link_data.wikidata_id.unique(), 10):\n",
    "    chunk_array = 'wd:'+' wd:'.join([x for x in chunk])\n",
    "    query = \"\"\"\n",
    "        select distinct ?work ?workLabel ?creator ?creatorLabel where {\n",
    "            values ?work {\"\"\"+chunk_array+\"\"\"}\n",
    "            ?work ?prop ?creator . \n",
    "            ?creator wdt:P31 wd:Q5 .\n",
    "            service wikibase:label { bd:serviceParam wikibase:language \"[AUTO_LANGUAGE],en\". }\n",
    "            } \"\"\"\n",
    "    wikidata_data = pandas.concat([wikidata_data, sparql_query(query, \"https://query.wikidata.org/sparql\")])\n",
    "\n",
    "for x in ['work', 'creator']:\n",
    "    wikidata_data[x] = wikidata_data[x].str.split('/').str[-1]\n",
    "\n",
    "wikidata_data = wikidata_data[['work', 'workLabel', 'creator', 'creatorLabel']]\n",
    "wikidata_data = wikidata_data.rename(columns={\n",
    "    'work':'wikidata_work_id',\n",
    "    'workLabel':'wikidata_work_title',\n",
    "    'creator':'wikidata_creator_id',\n",
    "    'creatorLabel':'wikidata_creator_name'})\n",
    "\n",
    "wikidata_creator_path = pathlib.Path.cwd().parents[0] / 'data' /  'wikidata_creator_data.parquet'\n",
    "wikidata_data.to_parquet(wikidata_creator_path, index=False)\n",
    "\n",
    "print(len(wikidata_data))\n",
    "wikidata_data.head()"
   ]
  }
 ],
 "metadata": {
  "kernelspec": {
   "display_name": "Python 3",
   "language": "python",
   "name": "python3"
  },
  "language_info": {
   "codemirror_mode": {
    "name": "ipython",
    "version": 3
   },
   "file_extension": ".py",
   "mimetype": "text/x-python",
   "name": "python",
   "nbconvert_exporter": "python",
   "pygments_lexer": "ipython3",
   "version": "3.9.6"
  }
 },
 "nbformat": 4,
 "nbformat_minor": 2
}
