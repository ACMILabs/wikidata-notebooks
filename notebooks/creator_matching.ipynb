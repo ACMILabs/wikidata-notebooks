{
 "cells": [
  {
   "cell_type": "code",
   "execution_count": 1,
   "metadata": {
    "execution": {
     "iopub.execute_input": "2023-07-05T10:46:37.942100Z",
     "iopub.status.busy": "2023-07-05T10:46:37.941755Z",
     "iopub.status.idle": "2023-07-05T10:46:39.795181Z",
     "shell.execute_reply": "2023-07-05T10:46:39.794552Z"
    }
   },
   "outputs": [
    {
     "name": "stdout",
     "output_type": "stream",
     "text": [
      "['id' 'acmi_id' 'title' 'title_annotation' 'slug' 'creator_credit'\n",
      " 'credit_line' 'headline_credit' 'has_video' 'record_type' 'type'\n",
      " 'is_on_display' 'last_on_display_place' 'last_on_display_date'\n",
      " 'is_context_indigenous' 'material_description' 'unpublished'\n",
      " 'first_production_date' 'brief_description' 'constellations_primary'\n",
      " 'constellations_other' 'title_for_label' 'creator_credit_for_label'\n",
      " 'headline_credit_for_label' 'description' 'description_for_label'\n",
      " 'credit_line_for_label' 'tap_count' 'links' 'creators_primary'\n",
      " 'creators_other' 'video_links' 'media_note' 'images' 'videos' 'holdings'\n",
      " 'part_of' 'parts' 'part_siblings' 'group' 'group_works' 'group_siblings'\n",
      " 'source' 'source_identifier' 'production_places' 'production_dates'\n",
      " 'labels' 'eaas_environment_id' 'external_references']\n",
      "20319\n",
      "['id' 'name' 'also_known_as' 'date_of_birth' 'date_of_death'\n",
      " 'places_of_operation' 'biography' 'biography_author' 'date_of_biography'\n",
      " 'external_links' 'uuid' 'source' 'source_identifier'\n",
      " 'external_references' 'date_modified']\n"
     ]
    },
    {
     "data": {
      "text/html": [
       "<div>\n",
       "<style scoped>\n",
       "    .dataframe tbody tr th:only-of-type {\n",
       "        vertical-align: middle;\n",
       "    }\n",
       "\n",
       "    .dataframe tbody tr th {\n",
       "        vertical-align: top;\n",
       "    }\n",
       "\n",
       "    .dataframe thead th {\n",
       "        text-align: right;\n",
       "    }\n",
       "</style>\n",
       "<table border=\"1\" class=\"dataframe\">\n",
       "  <thead>\n",
       "    <tr style=\"text-align: right;\">\n",
       "      <th></th>\n",
       "      <th>id</th>\n",
       "      <th>creators</th>\n",
       "    </tr>\n",
       "  </thead>\n",
       "  <tbody>\n",
       "    <tr>\n",
       "      <th>0</th>\n",
       "      <td>81688</td>\n",
       "      <td>1985988</td>\n",
       "    </tr>\n",
       "    <tr>\n",
       "      <th>0</th>\n",
       "      <td>81688</td>\n",
       "      <td>1985987</td>\n",
       "    </tr>\n",
       "    <tr>\n",
       "      <th>0</th>\n",
       "      <td>81688</td>\n",
       "      <td>1985986</td>\n",
       "    </tr>\n",
       "    <tr>\n",
       "      <th>0</th>\n",
       "      <td>81688</td>\n",
       "      <td>1985985</td>\n",
       "    </tr>\n",
       "    <tr>\n",
       "      <th>0</th>\n",
       "      <td>81688</td>\n",
       "      <td>1985984</td>\n",
       "    </tr>\n",
       "  </tbody>\n",
       "</table>\n",
       "</div>"
      ],
      "text/plain": [
       "      id creators\n",
       "0  81688  1985988\n",
       "0  81688  1985987\n",
       "0  81688  1985986\n",
       "0  81688  1985985\n",
       "0  81688  1985984"
      ]
     },
     "execution_count": 1,
     "metadata": {},
     "output_type": "execute_result"
    }
   ],
   "source": [
    "# Look for name matches where works are linked, but credits are not.\n",
    "\n",
    "# import altair\n",
    "import pandas\n",
    "import pathlib\n",
    "\n",
    "acmi_works = pandas.read_csv(pathlib.Path.cwd().parents[0] / 'acmi-api' / 'app' / 'tsv' / 'works.tsv', delimiter='\\t')\n",
    "\n",
    "print(acmi_works.columns.values)\n",
    "\n",
    "acmi_works = pandas.concat([\n",
    "    acmi_works[['id', 'creators_primary']].rename(columns={'creators_primary':'creators'}),\n",
    "    acmi_works[['id', 'creators_other']].rename(columns={'creators_other':'creators'})])\n",
    "\n",
    "acmi_works['creators'] = acmi_works['creators'].str.split(',')\n",
    "acmi_works = acmi_works.explode('creators')\n",
    "acmi_works['creators'] = acmi_works['creators'].str.strip()\n",
    "acmi_works = acmi_works.drop_duplicates().dropna()\n",
    "\n",
    "acmi_creators = pandas.read_csv(pathlib.Path.cwd().parents[0] / 'acmi-api' / 'app' / 'tsv' / 'creators.tsv', delimiter='\\t')\n",
    "\n",
    "acmi_works = acmi_works.loc[acmi_works.id.isin([81688])]\n",
    "\n",
    "print(len(acmi_creators))\n",
    "print(acmi_creators.columns.values)\n",
    "acmi_works.head(20)"
   ]
  }
 ],
 "metadata": {
  "kernelspec": {
   "display_name": "Python 3",
   "language": "python",
   "name": "python3"
  },
  "language_info": {
   "codemirror_mode": {
    "name": "ipython",
    "version": 3
   },
   "file_extension": ".py",
   "mimetype": "text/x-python",
   "name": "python",
   "nbconvert_exporter": "python",
   "pygments_lexer": "ipython3",
   "version": "3.10.6"
  }
 },
 "nbformat": 4,
 "nbformat_minor": 2
}
