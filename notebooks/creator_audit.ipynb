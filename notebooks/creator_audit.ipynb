{
 "cells": [
  {
   "cell_type": "code",
   "execution_count": 1,
   "metadata": {},
   "outputs": [
    {
     "name": "stdout",
     "output_type": "stream",
     "text": [
      "4\n"
     ]
    },
    {
     "data": {
      "text/html": [
       "<div>\n",
       "<style scoped>\n",
       "    .dataframe tbody tr th:only-of-type {\n",
       "        vertical-align: middle;\n",
       "    }\n",
       "\n",
       "    .dataframe tbody tr th {\n",
       "        vertical-align: top;\n",
       "    }\n",
       "\n",
       "    .dataframe thead th {\n",
       "        text-align: right;\n",
       "    }\n",
       "</style>\n",
       "<table border=\"1\" class=\"dataframe\">\n",
       "  <thead>\n",
       "    <tr style=\"text-align: right;\">\n",
       "      <th></th>\n",
       "      <th>wikidata</th>\n",
       "      <th>acmi</th>\n",
       "    </tr>\n",
       "  </thead>\n",
       "  <tbody>\n",
       "    <tr>\n",
       "      <th>2958</th>\n",
       "      <td>http://www.wikidata.org/entity/Q636003</td>\n",
       "      <td>creators/14128</td>\n",
       "    </tr>\n",
       "    <tr>\n",
       "      <th>2959</th>\n",
       "      <td>http://www.wikidata.org/entity/Q3197378</td>\n",
       "      <td>creators/14128</td>\n",
       "    </tr>\n",
       "    <tr>\n",
       "      <th>3273</th>\n",
       "      <td>http://www.wikidata.org/entity/Q3246627</td>\n",
       "      <td>creators/83206</td>\n",
       "    </tr>\n",
       "    <tr>\n",
       "      <th>3274</th>\n",
       "      <td>http://www.wikidata.org/entity/Q120308518</td>\n",
       "      <td>creators/83206</td>\n",
       "    </tr>\n",
       "  </tbody>\n",
       "</table>\n",
       "</div>"
      ],
      "text/plain": [
       "                                       wikidata            acmi\n",
       "2958     http://www.wikidata.org/entity/Q636003  creators/14128\n",
       "2959    http://www.wikidata.org/entity/Q3197378  creators/14128\n",
       "3273    http://www.wikidata.org/entity/Q3246627  creators/83206\n",
       "3274  http://www.wikidata.org/entity/Q120308518  creators/83206"
      ]
     },
     "execution_count": 1,
     "metadata": {},
     "output_type": "execute_result"
    }
   ],
   "source": [
    "\n",
    "# check linked creators, for now that no two Wikidata entities should share ACMI creator link.\n",
    "\n",
    "import hashlib\n",
    "import json\n",
    "import numpy\n",
    "import pandas\n",
    "import pathlib\n",
    "import pydash\n",
    "import requests\n",
    "import time\n",
    "import tqdm\n",
    "\n",
    "def value_extract(row, column):\n",
    "\n",
    "    ''' Extract dictionary values. '''\n",
    "    \n",
    "    return pydash.get(row[column], 'value')\n",
    "\n",
    "def sparql_query(query, service):\n",
    "\n",
    "    ''' Send sparql request, and formulate results into a dataframe. '''\n",
    "\n",
    "    response = requests.get(service, params={'format': 'json', 'query': query}, timeout=120)\n",
    "    results = pydash.get(response.json(), 'results.bindings')\n",
    "    data_frame = pandas.DataFrame.from_dict(results)\n",
    "    for column in data_frame.columns:\n",
    "        data_frame[column] = data_frame.apply(value_extract, column=column, axis=1)\n",
    "    \n",
    "    return data_frame\n",
    "\n",
    "query = '''\n",
    "    select ?acmi ?wikidata\n",
    "    where {\n",
    "        ?wikidata wdt:P7003 ?acmi .\n",
    "        filter(regex(str(?acmi), \"creator\")) .\n",
    "        } '''\n",
    "\n",
    "dataframe = sparql_query(query, 'https://query.wikidata.org/sparql').drop_duplicates()\n",
    "\n",
    "mask = dataframe.drop_duplicates(subset='acmi',keep=False)\n",
    "dataframe = dataframe.loc[~dataframe.acmi.isin(list(mask.acmi))]\n",
    "dataframe = dataframe.sort_values(by='acmi')\n",
    "\n",
    "print(len(dataframe))\n",
    "dataframe.head()"
   ]
  }
 ],
 "metadata": {
  "kernelspec": {
   "display_name": "Python 3",
   "language": "python",
   "name": "python3"
  },
  "language_info": {
   "codemirror_mode": {
    "name": "ipython",
    "version": 3
   },
   "file_extension": ".py",
   "mimetype": "text/x-python",
   "name": "python",
   "nbconvert_exporter": "python",
   "pygments_lexer": "ipython3",
   "version": "3.9.6"
  },
  "orig_nbformat": 4
 },
 "nbformat": 4,
 "nbformat_minor": 2
}
