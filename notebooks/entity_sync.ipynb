{
 "cells": [
  {
   "cell_type": "code",
   "execution_count": 1,
   "metadata": {
    "execution": {
     "iopub.execute_input": "2023-08-24T09:50:39.742755Z",
     "iopub.status.busy": "2023-08-24T09:50:39.742489Z",
     "iopub.status.idle": "2023-08-24T09:50:43.262435Z",
     "shell.execute_reply": "2023-08-24T09:50:43.261444Z"
    }
   },
   "outputs": [
    {
     "name": "stdout",
     "output_type": "stream",
     "text": [
      "~\n",
      "14964 creators are synced.\n",
      "5622 creators only ACMI side.\n",
      "2173 creators only Wikidata side.\n",
      "~\n",
      "7044 works are synced.\n",
      "36018 works only ACMI side.\n",
      "62 works only Wikidata side.\n"
     ]
    }
   ],
   "source": [
    "# verify sync between Wikidata/ACMI and identify exceptions.\n",
    "\n",
    "import pandas\n",
    "import pathlib\n",
    "import pydash\n",
    "import requests\n",
    "\n",
    "def value_extract(row, column):\n",
    "\n",
    "    ''' Extract dictionary values. '''\n",
    "    \n",
    "    return pydash.get(row[column], 'value')\n",
    "\n",
    "def sparql_query(query, service):\n",
    "\n",
    "    ''' Send sparql request, and formulate results into a dataframe. '''\n",
    "\n",
    "    response = requests.get(service, params={'format': 'json', 'query': query}, timeout=120)\n",
    "    results = pydash.get(response.json(), 'results.bindings')\n",
    "    data_frame = pandas.DataFrame.from_dict(results)\n",
    "    for column in data_frame.columns:\n",
    "        data_frame[column] = data_frame.apply(value_extract, column=column, axis=1)\n",
    "    \n",
    "    return data_frame\n",
    "\n",
    "def query_entities(entity_type):\n",
    "\n",
    "    ''' Compare entities from both datasets. '''\n",
    "\n",
    "    tsv_path = pathlib.Path.cwd().parents[0] / 'acmi-api' / 'app' / 'tsv'\n",
    "    acmi_api = pandas.read_csv(tsv_path / f'{entity_type}.tsv', delimiter='\\t')\n",
    "    acmi_side = set([f'{entity_type}/'+str(x) for x in acmi_api.id.unique()])\n",
    "\n",
    "    query = '''\n",
    "        select ?wikidata_id ?acmi_id\n",
    "        where { \n",
    "            ?wikidata_id wdt:P7003 ?acmi_id . \n",
    "            filter(regex(str(?acmi_id), \"'''+entity_type+'''\"))\n",
    "            } '''\n",
    "\n",
    "    wikidata = sparql_query(query, 'https://query.wikidata.org/sparql').drop_duplicates()\n",
    "    wikidata_side = set(wikidata.acmi_id.unique())\n",
    "    \n",
    "    print('~')\n",
    "    print(len(set.intersection(acmi_side, wikidata_side)), f'{entity_type} are synced.')\n",
    "    print(len(acmi_side - wikidata_side), f'{entity_type} only ACMI side.')\n",
    "    print(len(wikidata_side - acmi_side), f'{entity_type} only Wikidata side.')\n",
    "\n",
    "query_entities('creators')\n",
    "query_entities('works')"
   ]
  }
 ],
 "metadata": {
  "kernelspec": {
   "display_name": "Python 3",
   "language": "python",
   "name": "python3"
  },
  "language_info": {
   "codemirror_mode": {
    "name": "ipython",
    "version": 3
   },
   "file_extension": ".py",
   "mimetype": "text/x-python",
   "name": "python",
   "nbconvert_exporter": "python",
   "pygments_lexer": "ipython3",
   "version": "3.10.12"
  }
 },
 "nbformat": 4,
 "nbformat_minor": 2
}
