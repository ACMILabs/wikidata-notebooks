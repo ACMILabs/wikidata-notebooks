{
 "cells": [
  {
   "cell_type": "code",
   "execution_count": 1,
   "metadata": {
    "execution": {
     "iopub.execute_input": "2023-07-10T23:20:00.709680Z",
     "iopub.status.busy": "2023-07-10T23:20:00.709345Z",
     "iopub.status.idle": "2023-07-10T23:20:06.412455Z",
     "shell.execute_reply": "2023-07-10T23:20:06.411658Z"
    }
   },
   "outputs": [
    {
     "name": "stdout",
     "output_type": "stream",
     "text": [
      "336\n"
     ]
    },
    {
     "data": {
      "text/html": [
       "<div>\n",
       "<style scoped>\n",
       "    .dataframe tbody tr th:only-of-type {\n",
       "        vertical-align: middle;\n",
       "    }\n",
       "\n",
       "    .dataframe tbody tr th {\n",
       "        vertical-align: top;\n",
       "    }\n",
       "\n",
       "    .dataframe thead th {\n",
       "        text-align: right;\n",
       "    }\n",
       "</style>\n",
       "<table border=\"1\" class=\"dataframe\">\n",
       "  <thead>\n",
       "    <tr style=\"text-align: right;\">\n",
       "      <th></th>\n",
       "      <th>acmi_id_1</th>\n",
       "      <th>acmi_name_1</th>\n",
       "      <th>relation</th>\n",
       "      <th>acmi_id_2</th>\n",
       "      <th>acmi_name_2</th>\n",
       "    </tr>\n",
       "  </thead>\n",
       "  <tbody>\n",
       "    <tr>\n",
       "      <th>24</th>\n",
       "      <td>creators/22838</td>\n",
       "      <td>Warren Beatty</td>\n",
       "      <td>unmarried partner</td>\n",
       "      <td>creators/77602</td>\n",
       "      <td>Leslie Caron</td>\n",
       "    </tr>\n",
       "    <tr>\n",
       "      <th>26</th>\n",
       "      <td>creators/22838</td>\n",
       "      <td>Warren Beatty</td>\n",
       "      <td>sibling</td>\n",
       "      <td>creators/77673</td>\n",
       "      <td>Shirley MacLaine</td>\n",
       "    </tr>\n",
       "    <tr>\n",
       "      <th>27</th>\n",
       "      <td>creators/78964</td>\n",
       "      <td>Denise Robert</td>\n",
       "      <td>spouse</td>\n",
       "      <td>creators/27472</td>\n",
       "      <td>Denys Arcand</td>\n",
       "    </tr>\n",
       "    <tr>\n",
<<<<<<< HEAD
       "      <th>44</th>\n",
=======
       "      <th>46</th>\n",
>>>>>>> 94fdca1 (notebook updates)
       "      <td>creators/72664</td>\n",
       "      <td>Akira Kurosawa</td>\n",
       "      <td>child</td>\n",
       "      <td>creators/72666</td>\n",
       "      <td>Hisao Kurosawa</td>\n",
       "    </tr>\n",
       "    <tr>\n",
<<<<<<< HEAD
       "      <th>76</th>\n",
=======
       "      <th>75</th>\n",
>>>>>>> 94fdca1 (notebook updates)
       "      <td>creators/46827</td>\n",
       "      <td>Woody Allen</td>\n",
       "      <td>unmarried partner</td>\n",
       "      <td>creators/77990</td>\n",
       "      <td>Mia Farrow</td>\n",
       "    </tr>\n",
       "  </tbody>\n",
       "</table>\n",
       "</div>"
      ],
      "text/plain": [
       "         acmi_id_1     acmi_name_1           relation       acmi_id_2   \n",
       "24  creators/22838   Warren Beatty  unmarried partner  creators/77602  \\\n",
       "26  creators/22838   Warren Beatty            sibling  creators/77673   \n",
       "27  creators/78964   Denise Robert             spouse  creators/27472   \n",
<<<<<<< HEAD
       "44  creators/72664  Akira Kurosawa              child  creators/72666   \n",
       "76  creators/46827     Woody Allen  unmarried partner  creators/77990   \n",
=======
       "46  creators/72664  Akira Kurosawa              child  creators/72666   \n",
       "75  creators/46827     Woody Allen  unmarried partner  creators/77990   \n",
>>>>>>> 94fdca1 (notebook updates)
       "\n",
       "         acmi_name_2  \n",
       "24      Leslie Caron  \n",
       "26  Shirley MacLaine  \n",
       "27      Denys Arcand  \n",
<<<<<<< HEAD
       "44    Hisao Kurosawa  \n",
       "76        Mia Farrow  "
=======
       "46    Hisao Kurosawa  \n",
       "75        Mia Farrow  "
>>>>>>> 94fdca1 (notebook updates)
      ]
     },
     "execution_count": 1,
     "metadata": {},
     "output_type": "execute_result"
    }
   ],
   "source": [
    "# pull ACMI creator relations from Wikidata.\n",
    "\n",
    "import pandas\n",
    "import pydash\n",
    "import requests\n",
    "\n",
    "def value_extract(row, column):\n",
    "\n",
    "    ''' Extract dictionary values. '''\n",
    "    \n",
    "    return pydash.get(row[column], 'value')\n",
    "\n",
    "def sparql_query(query, service):\n",
    "\n",
    "    ''' Send sparql request, and formulate results into a dataframe. '''\n",
    "\n",
    "    response = requests.get(service, params={'format': 'json', 'query': query}, timeout=120)\n",
    "    results = pydash.get(response.json(), 'results.bindings')\n",
    "    data_frame = pandas.DataFrame.from_dict(results)\n",
    "    for column in data_frame.columns:\n",
    "        data_frame[column] = data_frame.apply(value_extract, column=column, axis=1)\n",
    "    \n",
    "    return data_frame\n",
    "\n",
    "query = '''\n",
    "    select ?acmi_creator ?wikidata_creator ?wikidata_creatorLabel ?relation ?individual where {\n",
    "        values ?relation {wdt:P26 wdt:P451 wdt:P40 wdt:P22 wdt:P25 wdt:P3373}\n",
    "        ?wikidata_creator wdt:P7003 ?acmi_creator .\n",
    "        filter(contains(str(?acmi_creator),'creator' )) \n",
    "        ?wikidata_creator ?relation ?individual .\n",
    "        service wikibase:label { bd:serviceParam wikibase:language \"en\". }\n",
    "        }'''\n",
    "\n",
    "dataframe = sparql_query(query, 'https://query.wikidata.org/sparql')\n",
    "dataframe = dataframe.loc[dataframe.individual.isin(list(dataframe.wikidata_creator))]\n",
    "\n",
    "creator_key_wikidata_acmi = {x['wikidata_creator']:x['acmi_creator'] for x in dataframe.to_dict('records')} \n",
    "dataframe = dataframe.replace({'wikidata_creator':creator_key_wikidata_acmi, 'individual':creator_key_wikidata_acmi})\n",
    "\n",
    "dataframe['acmi_id_1'] = dataframe['wikidata_creator']\n",
    "dataframe['acmi_name_1'] = dataframe['wikidata_creator']\n",
    "\n",
    "dataframe['acmi_id_2'] = dataframe['individual']\n",
    "dataframe['acmi_name_2'] = dataframe['individual']\n",
    "\n",
    "creator_key_acmi_name = {x['acmi_creator']:x['wikidata_creatorLabel'] for x in dataframe.to_dict('records')} \n",
    "dataframe = dataframe.replace({'acmi_name_1':creator_key_acmi_name, 'acmi_name_2':creator_key_acmi_name})\n",
    "\n",
    "dataframe = dataframe.replace({'relation': {\n",
    "    'http://www.wikidata.org/prop/direct/P26': 'spouse',\n",
    "    'http://www.wikidata.org/prop/direct/P451': 'unmarried partner',\n",
    "    'http://www.wikidata.org/prop/direct/P40': 'child',\n",
    "    'http://www.wikidata.org/prop/direct/P3373': 'sibling',\n",
    "    'http://www.wikidata.org/prop/direct/P22': 'father',\n",
    "    'http://www.wikidata.org/prop/direct/P25': 'mother'\n",
    "}})\n",
    "\n",
    "dataframe = dataframe[['acmi_id_1', 'acmi_name_1', 'relation', 'acmi_id_2', 'acmi_name_2']]\n",
    "\n",
    "print(len(dataframe))\n",
    "dataframe.head()"
   ]
  }
 ],
 "metadata": {
  "kernelspec": {
   "display_name": "Python 3",
   "language": "python",
   "name": "python3"
  },
  "language_info": {
   "codemirror_mode": {
    "name": "ipython",
    "version": 3
   },
   "file_extension": ".py",
   "mimetype": "text/x-python",
   "name": "python",
   "nbconvert_exporter": "python",
   "pygments_lexer": "ipython3",
   "version": "3.9.6"
  }
 },
 "nbformat": 4,
 "nbformat_minor": 2
}
